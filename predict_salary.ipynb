{
 "cells": [
  {
   "cell_type": "markdown",
   "metadata": {},
   "source": [
    "# Generate Linear Regression Model to predict Salary"
   ]
  },
  {
   "cell_type": "code",
   "execution_count": 164,
   "metadata": {},
   "outputs": [],
   "source": [
    "# imports\n",
    "\n",
    "import numpy as np\n",
    "import pandas as pd\n",
    "\n",
    "from sklearn.linear_model import LinearRegression\n",
    "from sklearn.model_selection import train_test_split"
   ]
  },
  {
   "cell_type": "markdown",
   "metadata": {},
   "source": [
    "### Preprocess the data"
   ]
  },
  {
   "cell_type": "code",
   "execution_count": 165,
   "metadata": {},
   "outputs": [
    {
     "data": {
      "text/html": [
       "<div>\n",
       "<style scoped>\n",
       "    .dataframe tbody tr th:only-of-type {\n",
       "        vertical-align: middle;\n",
       "    }\n",
       "\n",
       "    .dataframe tbody tr th {\n",
       "        vertical-align: top;\n",
       "    }\n",
       "\n",
       "    .dataframe thead th {\n",
       "        text-align: right;\n",
       "    }\n",
       "</style>\n",
       "<table border=\"1\" class=\"dataframe\">\n",
       "  <thead>\n",
       "    <tr style=\"text-align: right;\">\n",
       "      <th></th>\n",
       "      <th>name</th>\n",
       "      <th>password</th>\n",
       "      <th>employee_id</th>\n",
       "      <th>phone_number</th>\n",
       "      <th>job_role</th>\n",
       "      <th>work_location</th>\n",
       "      <th>salary</th>\n",
       "      <th>manager_id</th>\n",
       "    </tr>\n",
       "  </thead>\n",
       "  <tbody>\n",
       "    <tr>\n",
       "      <th>0</th>\n",
       "      <td>Alan Schnitzer</td>\n",
       "      <td>Password123!</td>\n",
       "      <td>10000</td>\n",
       "      <td>908-472-5643</td>\n",
       "      <td>CEO</td>\n",
       "      <td>Hartford, CT</td>\n",
       "      <td>16778800.00</td>\n",
       "      <td>10000</td>\n",
       "    </tr>\n",
       "    <tr>\n",
       "      <th>1</th>\n",
       "      <td>Liam Downey</td>\n",
       "      <td>Password123!</td>\n",
       "      <td>10001</td>\n",
       "      <td>681-101-2979</td>\n",
       "      <td>Cloud Engineer</td>\n",
       "      <td>New York, NY</td>\n",
       "      <td>129641.90</td>\n",
       "      <td>10000</td>\n",
       "    </tr>\n",
       "    <tr>\n",
       "      <th>2</th>\n",
       "      <td>Benjamin Ramdial</td>\n",
       "      <td>Password123!</td>\n",
       "      <td>10002</td>\n",
       "      <td>640-136-0249</td>\n",
       "      <td>Junior Data Engineer</td>\n",
       "      <td>Saint Paul, MN</td>\n",
       "      <td>80435.39</td>\n",
       "      <td>10000</td>\n",
       "    </tr>\n",
       "    <tr>\n",
       "      <th>3</th>\n",
       "      <td>Benjamin Wilson</td>\n",
       "      <td>Password123!</td>\n",
       "      <td>10003</td>\n",
       "      <td>867-766-3652</td>\n",
       "      <td>Cloud Engineer</td>\n",
       "      <td>Saint Paul, MN</td>\n",
       "      <td>79423.36</td>\n",
       "      <td>10000</td>\n",
       "    </tr>\n",
       "    <tr>\n",
       "      <th>4</th>\n",
       "      <td>Sophia Thomas</td>\n",
       "      <td>Password123!</td>\n",
       "      <td>10004</td>\n",
       "      <td>783-665-4556</td>\n",
       "      <td>Cloud Engineer</td>\n",
       "      <td>Hunt Valley, MD</td>\n",
       "      <td>81884.61</td>\n",
       "      <td>10000</td>\n",
       "    </tr>\n",
       "  </tbody>\n",
       "</table>\n",
       "</div>"
      ],
      "text/plain": [
       "               name      password  employee_id  phone_number  \\\n",
       "0    Alan Schnitzer  Password123!        10000  908-472-5643   \n",
       "1       Liam Downey  Password123!        10001  681-101-2979   \n",
       "2  Benjamin Ramdial  Password123!        10002  640-136-0249   \n",
       "3   Benjamin Wilson  Password123!        10003  867-766-3652   \n",
       "4     Sophia Thomas  Password123!        10004  783-665-4556   \n",
       "\n",
       "               job_role    work_location       salary  manager_id  \n",
       "0                   CEO     Hartford, CT  16778800.00       10000  \n",
       "1        Cloud Engineer     New York, NY    129641.90       10000  \n",
       "2  Junior Data Engineer   Saint Paul, MN     80435.39       10000  \n",
       "3        Cloud Engineer   Saint Paul, MN     79423.36       10000  \n",
       "4        Cloud Engineer  Hunt Valley, MD     81884.61       10000  "
      ]
     },
     "execution_count": 165,
     "metadata": {},
     "output_type": "execute_result"
    }
   ],
   "source": [
    "# read the data\n",
    "\n",
    "df = pd.read_csv('data.csv')\n",
    "df.head()"
   ]
  },
  {
   "cell_type": "code",
   "execution_count": 166,
   "metadata": {},
   "outputs": [],
   "source": [
    "df_data = df[['job_role','work_location']] # values used to make prediction\n",
    "df_labels = df[['salary']] # value to predict"
   ]
  },
  {
   "cell_type": "code",
   "execution_count": 167,
   "metadata": {},
   "outputs": [
    {
     "data": {
      "text/html": [
       "<div>\n",
       "<style scoped>\n",
       "    .dataframe tbody tr th:only-of-type {\n",
       "        vertical-align: middle;\n",
       "    }\n",
       "\n",
       "    .dataframe tbody tr th {\n",
       "        vertical-align: top;\n",
       "    }\n",
       "\n",
       "    .dataframe thead th {\n",
       "        text-align: right;\n",
       "    }\n",
       "</style>\n",
       "<table border=\"1\" class=\"dataframe\">\n",
       "  <thead>\n",
       "    <tr style=\"text-align: right;\">\n",
       "      <th></th>\n",
       "      <th>job_role_CEO</th>\n",
       "      <th>job_role_Cloud Engineer</th>\n",
       "      <th>job_role_HR Professional</th>\n",
       "      <th>job_role_Junior Data Engineer</th>\n",
       "      <th>job_role_Junior Software Engineer</th>\n",
       "      <th>job_role_Senior Data Engineer</th>\n",
       "      <th>job_role_Senior Software Engineer</th>\n",
       "      <th>work_location_Hartford, CT</th>\n",
       "      <th>work_location_Hunt Valley, MD</th>\n",
       "      <th>work_location_New York, NY</th>\n",
       "      <th>work_location_Saint Paul, MN</th>\n",
       "    </tr>\n",
       "  </thead>\n",
       "  <tbody>\n",
       "    <tr>\n",
       "      <th>0</th>\n",
       "      <td>1</td>\n",
       "      <td>0</td>\n",
       "      <td>0</td>\n",
       "      <td>0</td>\n",
       "      <td>0</td>\n",
       "      <td>0</td>\n",
       "      <td>0</td>\n",
       "      <td>1</td>\n",
       "      <td>0</td>\n",
       "      <td>0</td>\n",
       "      <td>0</td>\n",
       "    </tr>\n",
       "    <tr>\n",
       "      <th>1</th>\n",
       "      <td>0</td>\n",
       "      <td>1</td>\n",
       "      <td>0</td>\n",
       "      <td>0</td>\n",
       "      <td>0</td>\n",
       "      <td>0</td>\n",
       "      <td>0</td>\n",
       "      <td>0</td>\n",
       "      <td>0</td>\n",
       "      <td>1</td>\n",
       "      <td>0</td>\n",
       "    </tr>\n",
       "    <tr>\n",
       "      <th>2</th>\n",
       "      <td>0</td>\n",
       "      <td>0</td>\n",
       "      <td>0</td>\n",
       "      <td>1</td>\n",
       "      <td>0</td>\n",
       "      <td>0</td>\n",
       "      <td>0</td>\n",
       "      <td>0</td>\n",
       "      <td>0</td>\n",
       "      <td>0</td>\n",
       "      <td>1</td>\n",
       "    </tr>\n",
       "    <tr>\n",
       "      <th>3</th>\n",
       "      <td>0</td>\n",
       "      <td>1</td>\n",
       "      <td>0</td>\n",
       "      <td>0</td>\n",
       "      <td>0</td>\n",
       "      <td>0</td>\n",
       "      <td>0</td>\n",
       "      <td>0</td>\n",
       "      <td>0</td>\n",
       "      <td>0</td>\n",
       "      <td>1</td>\n",
       "    </tr>\n",
       "    <tr>\n",
       "      <th>4</th>\n",
       "      <td>0</td>\n",
       "      <td>1</td>\n",
       "      <td>0</td>\n",
       "      <td>0</td>\n",
       "      <td>0</td>\n",
       "      <td>0</td>\n",
       "      <td>0</td>\n",
       "      <td>0</td>\n",
       "      <td>1</td>\n",
       "      <td>0</td>\n",
       "      <td>0</td>\n",
       "    </tr>\n",
       "  </tbody>\n",
       "</table>\n",
       "</div>"
      ],
      "text/plain": [
       "   job_role_CEO  job_role_Cloud Engineer  job_role_HR Professional  \\\n",
       "0             1                        0                         0   \n",
       "1             0                        1                         0   \n",
       "2             0                        0                         0   \n",
       "3             0                        1                         0   \n",
       "4             0                        1                         0   \n",
       "\n",
       "   job_role_Junior Data Engineer  job_role_Junior Software Engineer  \\\n",
       "0                              0                                  0   \n",
       "1                              0                                  0   \n",
       "2                              1                                  0   \n",
       "3                              0                                  0   \n",
       "4                              0                                  0   \n",
       "\n",
       "   job_role_Senior Data Engineer  job_role_Senior Software Engineer  \\\n",
       "0                              0                                  0   \n",
       "1                              0                                  0   \n",
       "2                              0                                  0   \n",
       "3                              0                                  0   \n",
       "4                              0                                  0   \n",
       "\n",
       "   work_location_Hartford, CT  work_location_Hunt Valley, MD  \\\n",
       "0                           1                              0   \n",
       "1                           0                              0   \n",
       "2                           0                              0   \n",
       "3                           0                              0   \n",
       "4                           0                              1   \n",
       "\n",
       "   work_location_New York, NY  work_location_Saint Paul, MN  \n",
       "0                           0                             0  \n",
       "1                           1                             0  \n",
       "2                           0                             1  \n",
       "3                           0                             1  \n",
       "4                           0                             0  "
      ]
     },
     "execution_count": 167,
     "metadata": {},
     "output_type": "execute_result"
    }
   ],
   "source": [
    "# one hot encode data to be able to run model\n",
    "\n",
    "df_dummy = pd.get_dummies(df_data)\n",
    "df_dummy.head()"
   ]
  },
  {
   "cell_type": "markdown",
   "metadata": {},
   "source": [
    "### Split data into train and test"
   ]
  },
  {
   "cell_type": "code",
   "execution_count": 168,
   "metadata": {},
   "outputs": [
    {
     "name": "stdout",
     "output_type": "stream",
     "text": [
      "(800, 11) (200, 11) (800, 1) (200, 1)\n"
     ]
    }
   ],
   "source": [
    "X_train, X_test, y_train, y_test = train_test_split(df_dummy, df_labels, test_size=0.2)\n",
    "\n",
    "print(X_train.shape, X_test.shape, y_train.shape, y_test.shape)"
   ]
  },
  {
   "cell_type": "markdown",
   "metadata": {},
   "source": [
    "### Train Linear Regression Model"
   ]
  },
  {
   "cell_type": "code",
   "execution_count": 169,
   "metadata": {},
   "outputs": [],
   "source": [
    "model = LinearRegression()"
   ]
  },
  {
   "cell_type": "code",
   "execution_count": 170,
   "metadata": {},
   "outputs": [
    {
     "data": {
      "text/plain": [
       "0.9746414698333501"
      ]
     },
     "execution_count": 170,
     "metadata": {},
     "output_type": "execute_result"
    }
   ],
   "source": [
    "model.fit(X_train, y_train)\n",
    "model.score(X_train, y_train)"
   ]
  },
  {
   "cell_type": "markdown",
   "metadata": {},
   "source": [
    "### Testing Linear Regression Model"
   ]
  },
  {
   "cell_type": "code",
   "execution_count": 171,
   "metadata": {},
   "outputs": [
    {
     "data": {
      "text/plain": [
       "-1.4352762575603876e+20"
      ]
     },
     "execution_count": 171,
     "metadata": {},
     "output_type": "execute_result"
    }
   ],
   "source": [
    "prediction = model.score(X_test, y_test)\n",
    "prediction"
   ]
  }
 ],
 "metadata": {
  "kernelspec": {
   "display_name": "base",
   "language": "python",
   "name": "python3"
  },
  "language_info": {
   "codemirror_mode": {
    "name": "ipython",
    "version": 3
   },
   "file_extension": ".py",
   "mimetype": "text/x-python",
   "name": "python",
   "nbconvert_exporter": "python",
   "pygments_lexer": "ipython3",
   "version": "3.10.9"
  },
  "orig_nbformat": 4
 },
 "nbformat": 4,
 "nbformat_minor": 2
}
