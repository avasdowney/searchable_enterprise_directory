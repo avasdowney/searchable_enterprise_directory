{
 "cells": [
  {
   "cell_type": "markdown",
   "metadata": {},
   "source": [
    "# Generate Linear Regression Model to predict Salary"
   ]
  },
  {
   "cell_type": "code",
   "execution_count": 253,
   "metadata": {},
   "outputs": [],
   "source": [
    "# imports\n",
    "\n",
    "import numpy as np\n",
    "import pandas as pd\n",
    "\n",
    "from sklearn.linear_model import LinearRegression\n",
    "from sklearn.model_selection import train_test_split\n",
    "\n",
    "from matplotlib import pyplot as plt \n",
    "import seaborn as sns \n",
    "\n",
    "import pickle as pkl"
   ]
  },
  {
   "cell_type": "markdown",
   "metadata": {},
   "source": [
    "### Preprocess the data"
   ]
  },
  {
   "cell_type": "code",
   "execution_count": 254,
   "metadata": {},
   "outputs": [
    {
     "data": {
      "text/html": [
       "<div>\n",
       "<style scoped>\n",
       "    .dataframe tbody tr th:only-of-type {\n",
       "        vertical-align: middle;\n",
       "    }\n",
       "\n",
       "    .dataframe tbody tr th {\n",
       "        vertical-align: top;\n",
       "    }\n",
       "\n",
       "    .dataframe thead th {\n",
       "        text-align: right;\n",
       "    }\n",
       "</style>\n",
       "<table border=\"1\" class=\"dataframe\">\n",
       "  <thead>\n",
       "    <tr style=\"text-align: right;\">\n",
       "      <th></th>\n",
       "      <th>name</th>\n",
       "      <th>password</th>\n",
       "      <th>employee_id</th>\n",
       "      <th>phone_number</th>\n",
       "      <th>job_role</th>\n",
       "      <th>work_location</th>\n",
       "      <th>salary</th>\n",
       "      <th>manager_id</th>\n",
       "    </tr>\n",
       "  </thead>\n",
       "  <tbody>\n",
       "    <tr>\n",
       "      <th>0</th>\n",
       "      <td>Alan Schnitzer</td>\n",
       "      <td>Password123!</td>\n",
       "      <td>10000</td>\n",
       "      <td>730-415-0968</td>\n",
       "      <td>CEO</td>\n",
       "      <td>Hartford, CT</td>\n",
       "      <td>16778800.00</td>\n",
       "      <td>10000</td>\n",
       "    </tr>\n",
       "    <tr>\n",
       "      <th>1</th>\n",
       "      <td>Evelyn Smith</td>\n",
       "      <td>Password123!</td>\n",
       "      <td>10001</td>\n",
       "      <td>604-745-4842</td>\n",
       "      <td>Data Engineer Manager</td>\n",
       "      <td>Hartford, CT</td>\n",
       "      <td>189612.01</td>\n",
       "      <td>10000</td>\n",
       "    </tr>\n",
       "    <tr>\n",
       "      <th>2</th>\n",
       "      <td>Noah Hernandez</td>\n",
       "      <td>Password123!</td>\n",
       "      <td>10002</td>\n",
       "      <td>689-440-5017</td>\n",
       "      <td>Senior Data Engineer</td>\n",
       "      <td>Saint Paul, MN</td>\n",
       "      <td>149812.69</td>\n",
       "      <td>10001</td>\n",
       "    </tr>\n",
       "    <tr>\n",
       "      <th>3</th>\n",
       "      <td>Theodore Martinez</td>\n",
       "      <td>Password123!</td>\n",
       "      <td>10003</td>\n",
       "      <td>886-613-9930</td>\n",
       "      <td>Senior Data Engineer</td>\n",
       "      <td>Hunt Valley, MD</td>\n",
       "      <td>164232.48</td>\n",
       "      <td>10001</td>\n",
       "    </tr>\n",
       "    <tr>\n",
       "      <th>4</th>\n",
       "      <td>Noah Jackson</td>\n",
       "      <td>Password123!</td>\n",
       "      <td>10004</td>\n",
       "      <td>860-141-3394</td>\n",
       "      <td>Junior Data Engineer</td>\n",
       "      <td>Saint Paul, MN</td>\n",
       "      <td>99611.94</td>\n",
       "      <td>10001</td>\n",
       "    </tr>\n",
       "  </tbody>\n",
       "</table>\n",
       "</div>"
      ],
      "text/plain": [
       "                name      password  employee_id  phone_number  \\\n",
       "0     Alan Schnitzer  Password123!        10000  730-415-0968   \n",
       "1       Evelyn Smith  Password123!        10001  604-745-4842   \n",
       "2     Noah Hernandez  Password123!        10002  689-440-5017   \n",
       "3  Theodore Martinez  Password123!        10003  886-613-9930   \n",
       "4       Noah Jackson  Password123!        10004  860-141-3394   \n",
       "\n",
       "                job_role    work_location       salary  manager_id  \n",
       "0                    CEO     Hartford, CT  16778800.00       10000  \n",
       "1  Data Engineer Manager     Hartford, CT    189612.01       10000  \n",
       "2   Senior Data Engineer   Saint Paul, MN    149812.69       10001  \n",
       "3   Senior Data Engineer  Hunt Valley, MD    164232.48       10001  \n",
       "4   Junior Data Engineer   Saint Paul, MN     99611.94       10001  "
      ]
     },
     "execution_count": 254,
     "metadata": {},
     "output_type": "execute_result"
    }
   ],
   "source": [
    "# read the data\n",
    "\n",
    "df = pd.read_csv('data.csv')\n",
    "df.head()"
   ]
  },
  {
   "cell_type": "code",
   "execution_count": 255,
   "metadata": {},
   "outputs": [
    {
     "data": {
      "text/html": [
       "<div>\n",
       "<style scoped>\n",
       "    .dataframe tbody tr th:only-of-type {\n",
       "        vertical-align: middle;\n",
       "    }\n",
       "\n",
       "    .dataframe tbody tr th {\n",
       "        vertical-align: top;\n",
       "    }\n",
       "\n",
       "    .dataframe thead th {\n",
       "        text-align: right;\n",
       "    }\n",
       "</style>\n",
       "<table border=\"1\" class=\"dataframe\">\n",
       "  <thead>\n",
       "    <tr style=\"text-align: right;\">\n",
       "      <th></th>\n",
       "      <th>name</th>\n",
       "      <th>password</th>\n",
       "      <th>employee_id</th>\n",
       "      <th>phone_number</th>\n",
       "      <th>job_role</th>\n",
       "      <th>work_location</th>\n",
       "      <th>salary</th>\n",
       "      <th>manager_id</th>\n",
       "    </tr>\n",
       "  </thead>\n",
       "  <tbody>\n",
       "    <tr>\n",
       "      <th>1</th>\n",
       "      <td>Evelyn Smith</td>\n",
       "      <td>Password123!</td>\n",
       "      <td>10001</td>\n",
       "      <td>604-745-4842</td>\n",
       "      <td>Data Engineer Manager</td>\n",
       "      <td>Hartford, CT</td>\n",
       "      <td>189612.01</td>\n",
       "      <td>10000</td>\n",
       "    </tr>\n",
       "    <tr>\n",
       "      <th>2</th>\n",
       "      <td>Noah Hernandez</td>\n",
       "      <td>Password123!</td>\n",
       "      <td>10002</td>\n",
       "      <td>689-440-5017</td>\n",
       "      <td>Senior Data Engineer</td>\n",
       "      <td>Saint Paul, MN</td>\n",
       "      <td>149812.69</td>\n",
       "      <td>10001</td>\n",
       "    </tr>\n",
       "    <tr>\n",
       "      <th>3</th>\n",
       "      <td>Theodore Martinez</td>\n",
       "      <td>Password123!</td>\n",
       "      <td>10003</td>\n",
       "      <td>886-613-9930</td>\n",
       "      <td>Senior Data Engineer</td>\n",
       "      <td>Hunt Valley, MD</td>\n",
       "      <td>164232.48</td>\n",
       "      <td>10001</td>\n",
       "    </tr>\n",
       "    <tr>\n",
       "      <th>4</th>\n",
       "      <td>Noah Jackson</td>\n",
       "      <td>Password123!</td>\n",
       "      <td>10004</td>\n",
       "      <td>860-141-3394</td>\n",
       "      <td>Junior Data Engineer</td>\n",
       "      <td>Saint Paul, MN</td>\n",
       "      <td>99611.94</td>\n",
       "      <td>10001</td>\n",
       "    </tr>\n",
       "    <tr>\n",
       "      <th>5</th>\n",
       "      <td>William Downey</td>\n",
       "      <td>Password123!</td>\n",
       "      <td>10005</td>\n",
       "      <td>685-012-2885</td>\n",
       "      <td>Senior Data Engineer</td>\n",
       "      <td>Hartford, CT</td>\n",
       "      <td>180185.58</td>\n",
       "      <td>10001</td>\n",
       "    </tr>\n",
       "  </tbody>\n",
       "</table>\n",
       "</div>"
      ],
      "text/plain": [
       "                name      password  employee_id  phone_number  \\\n",
       "1       Evelyn Smith  Password123!        10001  604-745-4842   \n",
       "2     Noah Hernandez  Password123!        10002  689-440-5017   \n",
       "3  Theodore Martinez  Password123!        10003  886-613-9930   \n",
       "4       Noah Jackson  Password123!        10004  860-141-3394   \n",
       "5     William Downey  Password123!        10005  685-012-2885   \n",
       "\n",
       "                job_role    work_location     salary  manager_id  \n",
       "1  Data Engineer Manager     Hartford, CT  189612.01       10000  \n",
       "2   Senior Data Engineer   Saint Paul, MN  149812.69       10001  \n",
       "3   Senior Data Engineer  Hunt Valley, MD  164232.48       10001  \n",
       "4   Junior Data Engineer   Saint Paul, MN   99611.94       10001  \n",
       "5   Senior Data Engineer     Hartford, CT  180185.58       10001  "
      ]
     },
     "execution_count": 255,
     "metadata": {},
     "output_type": "execute_result"
    }
   ],
   "source": [
    "df = df.iloc[1:,] # drop Alan for graphing purposes (hes an outlier)\n",
    "df.head()"
   ]
  },
  {
   "cell_type": "code",
   "execution_count": 256,
   "metadata": {},
   "outputs": [],
   "source": [
    "df_data = df[['job_role','work_location']] # values used to make prediction\n",
    "df_labels = df[['salary']] # value to predict"
   ]
  },
  {
   "cell_type": "code",
   "execution_count": 257,
   "metadata": {},
   "outputs": [
    {
     "data": {
      "text/html": [
       "<div>\n",
       "<style scoped>\n",
       "    .dataframe tbody tr th:only-of-type {\n",
       "        vertical-align: middle;\n",
       "    }\n",
       "\n",
       "    .dataframe tbody tr th {\n",
       "        vertical-align: top;\n",
       "    }\n",
       "\n",
       "    .dataframe thead th {\n",
       "        text-align: right;\n",
       "    }\n",
       "</style>\n",
       "<table border=\"1\" class=\"dataframe\">\n",
       "  <thead>\n",
       "    <tr style=\"text-align: right;\">\n",
       "      <th></th>\n",
       "      <th>job_role_Data Engineer Manager</th>\n",
       "      <th>job_role_HR Manager</th>\n",
       "      <th>job_role_HR Representative</th>\n",
       "      <th>job_role_HR Specialist</th>\n",
       "      <th>job_role_Junior Data Engineer</th>\n",
       "      <th>job_role_Junior Software Engineer</th>\n",
       "      <th>job_role_Senior Data Engineer</th>\n",
       "      <th>job_role_Senior Software Engineer</th>\n",
       "      <th>job_role_Software Engineer Manager</th>\n",
       "      <th>work_location_Hartford, CT</th>\n",
       "      <th>work_location_Hunt Valley, MD</th>\n",
       "      <th>work_location_New York, NY</th>\n",
       "      <th>work_location_Saint Paul, MN</th>\n",
       "    </tr>\n",
       "  </thead>\n",
       "  <tbody>\n",
       "    <tr>\n",
       "      <th>1</th>\n",
       "      <td>1</td>\n",
       "      <td>0</td>\n",
       "      <td>0</td>\n",
       "      <td>0</td>\n",
       "      <td>0</td>\n",
       "      <td>0</td>\n",
       "      <td>0</td>\n",
       "      <td>0</td>\n",
       "      <td>0</td>\n",
       "      <td>1</td>\n",
       "      <td>0</td>\n",
       "      <td>0</td>\n",
       "      <td>0</td>\n",
       "    </tr>\n",
       "    <tr>\n",
       "      <th>2</th>\n",
       "      <td>0</td>\n",
       "      <td>0</td>\n",
       "      <td>0</td>\n",
       "      <td>0</td>\n",
       "      <td>0</td>\n",
       "      <td>0</td>\n",
       "      <td>1</td>\n",
       "      <td>0</td>\n",
       "      <td>0</td>\n",
       "      <td>0</td>\n",
       "      <td>0</td>\n",
       "      <td>0</td>\n",
       "      <td>1</td>\n",
       "    </tr>\n",
       "    <tr>\n",
       "      <th>3</th>\n",
       "      <td>0</td>\n",
       "      <td>0</td>\n",
       "      <td>0</td>\n",
       "      <td>0</td>\n",
       "      <td>0</td>\n",
       "      <td>0</td>\n",
       "      <td>1</td>\n",
       "      <td>0</td>\n",
       "      <td>0</td>\n",
       "      <td>0</td>\n",
       "      <td>1</td>\n",
       "      <td>0</td>\n",
       "      <td>0</td>\n",
       "    </tr>\n",
       "    <tr>\n",
       "      <th>4</th>\n",
       "      <td>0</td>\n",
       "      <td>0</td>\n",
       "      <td>0</td>\n",
       "      <td>0</td>\n",
       "      <td>1</td>\n",
       "      <td>0</td>\n",
       "      <td>0</td>\n",
       "      <td>0</td>\n",
       "      <td>0</td>\n",
       "      <td>0</td>\n",
       "      <td>0</td>\n",
       "      <td>0</td>\n",
       "      <td>1</td>\n",
       "    </tr>\n",
       "    <tr>\n",
       "      <th>5</th>\n",
       "      <td>0</td>\n",
       "      <td>0</td>\n",
       "      <td>0</td>\n",
       "      <td>0</td>\n",
       "      <td>0</td>\n",
       "      <td>0</td>\n",
       "      <td>1</td>\n",
       "      <td>0</td>\n",
       "      <td>0</td>\n",
       "      <td>1</td>\n",
       "      <td>0</td>\n",
       "      <td>0</td>\n",
       "      <td>0</td>\n",
       "    </tr>\n",
       "  </tbody>\n",
       "</table>\n",
       "</div>"
      ],
      "text/plain": [
       "   job_role_Data Engineer Manager  job_role_HR Manager  \\\n",
       "1                               1                    0   \n",
       "2                               0                    0   \n",
       "3                               0                    0   \n",
       "4                               0                    0   \n",
       "5                               0                    0   \n",
       "\n",
       "   job_role_HR Representative  job_role_HR Specialist  \\\n",
       "1                           0                       0   \n",
       "2                           0                       0   \n",
       "3                           0                       0   \n",
       "4                           0                       0   \n",
       "5                           0                       0   \n",
       "\n",
       "   job_role_Junior Data Engineer  job_role_Junior Software Engineer  \\\n",
       "1                              0                                  0   \n",
       "2                              0                                  0   \n",
       "3                              0                                  0   \n",
       "4                              1                                  0   \n",
       "5                              0                                  0   \n",
       "\n",
       "   job_role_Senior Data Engineer  job_role_Senior Software Engineer  \\\n",
       "1                              0                                  0   \n",
       "2                              1                                  0   \n",
       "3                              1                                  0   \n",
       "4                              0                                  0   \n",
       "5                              1                                  0   \n",
       "\n",
       "   job_role_Software Engineer Manager  work_location_Hartford, CT  \\\n",
       "1                                   0                           1   \n",
       "2                                   0                           0   \n",
       "3                                   0                           0   \n",
       "4                                   0                           0   \n",
       "5                                   0                           1   \n",
       "\n",
       "   work_location_Hunt Valley, MD  work_location_New York, NY  \\\n",
       "1                              0                           0   \n",
       "2                              0                           0   \n",
       "3                              1                           0   \n",
       "4                              0                           0   \n",
       "5                              0                           0   \n",
       "\n",
       "   work_location_Saint Paul, MN  \n",
       "1                             0  \n",
       "2                             1  \n",
       "3                             0  \n",
       "4                             1  \n",
       "5                             0  "
      ]
     },
     "execution_count": 257,
     "metadata": {},
     "output_type": "execute_result"
    }
   ],
   "source": [
    "# one hot encode data to be able to run model\n",
    "\n",
    "df_dummy = pd.get_dummies(df_data)\n",
    "df_dummy.head()"
   ]
  },
  {
   "cell_type": "markdown",
   "metadata": {},
   "source": [
    "### Split data into train and test"
   ]
  },
  {
   "cell_type": "code",
   "execution_count": 258,
   "metadata": {},
   "outputs": [
    {
     "name": "stdout",
     "output_type": "stream",
     "text": [
      "(799, 13) (200, 13) (799, 1) (200, 1)\n"
     ]
    }
   ],
   "source": [
    "X_train, X_test, y_train, y_test = train_test_split(df_dummy, df_labels, test_size=0.2)\n",
    "\n",
    "print(X_train.shape, X_test.shape, y_train.shape, y_test.shape)"
   ]
  },
  {
   "cell_type": "markdown",
   "metadata": {},
   "source": [
    "### Train Linear Regression Model"
   ]
  },
  {
   "cell_type": "code",
   "execution_count": 259,
   "metadata": {},
   "outputs": [],
   "source": [
    "model = LinearRegression()"
   ]
  },
  {
   "cell_type": "code",
   "execution_count": 260,
   "metadata": {},
   "outputs": [
    {
     "data": {
      "text/plain": [
       "0.9628077422639546"
      ]
     },
     "execution_count": 260,
     "metadata": {},
     "output_type": "execute_result"
    }
   ],
   "source": [
    "model.fit(X_train, y_train)\n",
    "model.score(X_train, y_train)"
   ]
  },
  {
   "cell_type": "markdown",
   "metadata": {},
   "source": [
    "### Testing Linear Regression Model"
   ]
  },
  {
   "cell_type": "code",
   "execution_count": 261,
   "metadata": {},
   "outputs": [
    {
     "data": {
      "text/plain": [
       "0.9593208142912873"
      ]
     },
     "execution_count": 261,
     "metadata": {},
     "output_type": "execute_result"
    }
   ],
   "source": [
    "score = model.score(X_test, y_test)\n",
    "score"
   ]
  },
  {
   "cell_type": "code",
   "execution_count": 262,
   "metadata": {},
   "outputs": [],
   "source": [
    "# # code from https://stackoverflow.com/questions/52404857/how-do-i-plot-for-multiple-linear-regression-model-using-matplotlib\n",
    "\n",
    "# fig, axes = plt.subplots(1,len(X_train.columns.values),sharey=True,constrained_layout=True,figsize=(30,15))\n",
    "\n",
    "# for i,e in enumerate(X_train.columns):\n",
    "#   model.fit(X_train[e].values[:,np.newaxis], y_train.values)\n",
    "#   axes[i].set_title(\"Best fit line\")\n",
    "#   axes[i].set_xlabel(str(e))\n",
    "#   axes[i].set_ylabel('Salary')\n",
    "#   axes[i].scatter(X_train[e].values[:,np.newaxis], y_train,color='g')\n",
    "#   axes[i].plot(X_train[e].values[:,np.newaxis], \n",
    "#   model.predict(X_train[e].values[:,np.newaxis]),color='k')"
   ]
  },
  {
   "cell_type": "markdown",
   "metadata": {},
   "source": [
    "### Saving the Model"
   ]
  },
  {
   "cell_type": "code",
   "execution_count": 263,
   "metadata": {},
   "outputs": [],
   "source": [
    "with open(\"trained_model.pkl\", \"wb\") as f:\n",
    "    pkl.dump(model,f)"
   ]
  },
  {
   "cell_type": "markdown",
   "metadata": {},
   "source": [
    "### Taking in External Values to Predict Salary "
   ]
  },
  {
   "cell_type": "code",
   "execution_count": 264,
   "metadata": {},
   "outputs": [],
   "source": [
    "def predict_salary(job_role, work_location):\n",
    "    df_input_data = df[['job_role','work_location']] # values used to make prediction\n",
    "\n",
    "    df_input_data.loc[len(df_input_data.index)] = [job_role, work_location] # append new data to existing dataframe\n",
    "    df_input_dummy = pd.get_dummies(df_input_data) # one hot encode all data\n",
    "\n",
    "    model_prediction = model.predict(df_input_dummy.tail(1)) # make salary prediction on new input\n",
    "    return np.array2string(model_prediction[0][0])"
   ]
  },
  {
   "cell_type": "code",
   "execution_count": 265,
   "metadata": {},
   "outputs": [
    {
     "name": "stdout",
     "output_type": "stream",
     "text": [
      "Enter in your job role (eg. Senior Software Engineer)\n",
      "Enter in your job location (eg. Hartford, CT)\n",
      "The salary for a Senior Data Engineer in Hartford, CT is predicted to be 171867.6647718\n"
     ]
    },
    {
     "name": "stderr",
     "output_type": "stream",
     "text": [
      "C:\\Users\\wasadmin\\AppData\\Local\\Temp\\2\\ipykernel_10084\\670746460.py:4: SettingWithCopyWarning: \n",
      "A value is trying to be set on a copy of a slice from a DataFrame\n",
      "\n",
      "See the caveats in the documentation: https://pandas.pydata.org/pandas-docs/stable/user_guide/indexing.html#returning-a-view-versus-a-copy\n",
      "  df_input_data.loc[len(df_input_data.index)] = [job_role, work_location] # append new data to existing dataframe\n"
     ]
    }
   ],
   "source": [
    "print(\"Enter in your job role (eg. Senior Software Engineer)\")\n",
    "job_role = input()\n",
    "print(\"Enter in your job location (eg. Hartford, CT)\")\n",
    "work_location = input()\n",
    "\n",
    "print('The salary for a {} in {} is predicted to be {}'.format(job_role, work_location, predict_salary(job_role, work_location)[:-1]))"
   ]
  }
 ],
 "metadata": {
  "kernelspec": {
   "display_name": "base",
   "language": "python",
   "name": "python3"
  },
  "language_info": {
   "codemirror_mode": {
    "name": "ipython",
    "version": 3
   },
   "file_extension": ".py",
   "mimetype": "text/x-python",
   "name": "python",
   "nbconvert_exporter": "python",
   "pygments_lexer": "ipython3",
   "version": "3.10.9"
  },
  "orig_nbformat": 4
 },
 "nbformat": 4,
 "nbformat_minor": 2
}
