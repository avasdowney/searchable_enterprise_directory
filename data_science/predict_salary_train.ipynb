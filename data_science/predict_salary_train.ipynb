{
 "cells": [
  {
   "cell_type": "markdown",
   "metadata": {},
   "source": [
    "# Generate Linear Regression Model to predict Salary"
   ]
  },
  {
   "cell_type": "code",
   "execution_count": 1,
   "metadata": {},
   "outputs": [],
   "source": [
    "# imports\n",
    "\n",
    "import numpy as np\n",
    "import pandas as pd\n",
    "\n",
    "from sklearn.linear_model import LinearRegression\n",
    "from sklearn.model_selection import train_test_split\n",
    "\n",
    "import pickle as pkl"
   ]
  },
  {
   "cell_type": "markdown",
   "metadata": {},
   "source": [
    "### Preprocess the data"
   ]
  },
  {
   "cell_type": "code",
   "execution_count": 2,
   "metadata": {},
   "outputs": [
    {
     "data": {
      "text/html": [
       "<div>\n",
       "<style scoped>\n",
       "    .dataframe tbody tr th:only-of-type {\n",
       "        vertical-align: middle;\n",
       "    }\n",
       "\n",
       "    .dataframe tbody tr th {\n",
       "        vertical-align: top;\n",
       "    }\n",
       "\n",
       "    .dataframe thead th {\n",
       "        text-align: right;\n",
       "    }\n",
       "</style>\n",
       "<table border=\"1\" class=\"dataframe\">\n",
       "  <thead>\n",
       "    <tr style=\"text-align: right;\">\n",
       "      <th></th>\n",
       "      <th>name</th>\n",
       "      <th>password</th>\n",
       "      <th>employee_id</th>\n",
       "      <th>phone_number</th>\n",
       "      <th>job_role</th>\n",
       "      <th>work_location</th>\n",
       "      <th>salary</th>\n",
       "      <th>manager_id</th>\n",
       "    </tr>\n",
       "  </thead>\n",
       "  <tbody>\n",
       "    <tr>\n",
       "      <th>0</th>\n",
       "      <td>Alan Schnitzer</td>\n",
       "      <td>Password123!</td>\n",
       "      <td>10000</td>\n",
       "      <td>686-296-9780</td>\n",
       "      <td>CEO</td>\n",
       "      <td>Hartford, CT</td>\n",
       "      <td>16778800.00</td>\n",
       "      <td>10000</td>\n",
       "    </tr>\n",
       "    <tr>\n",
       "      <th>1</th>\n",
       "      <td>William Lopez</td>\n",
       "      <td>Password123!</td>\n",
       "      <td>10001</td>\n",
       "      <td>861-357-0442</td>\n",
       "      <td>HR Professional</td>\n",
       "      <td>Hunt Valley, MD</td>\n",
       "      <td>67344.95</td>\n",
       "      <td>10000</td>\n",
       "    </tr>\n",
       "    <tr>\n",
       "      <th>2</th>\n",
       "      <td>Noah Lettick</td>\n",
       "      <td>Password123!</td>\n",
       "      <td>10002</td>\n",
       "      <td>938-728-1518</td>\n",
       "      <td>HR Professional</td>\n",
       "      <td>Hartford, CT</td>\n",
       "      <td>76182.80</td>\n",
       "      <td>10000</td>\n",
       "    </tr>\n",
       "    <tr>\n",
       "      <th>3</th>\n",
       "      <td>Charlotte Wilson</td>\n",
       "      <td>Password123!</td>\n",
       "      <td>10003</td>\n",
       "      <td>802-636-0595</td>\n",
       "      <td>Senior Data Engineer</td>\n",
       "      <td>Hartford, CT</td>\n",
       "      <td>113577.14</td>\n",
       "      <td>10000</td>\n",
       "    </tr>\n",
       "    <tr>\n",
       "      <th>4</th>\n",
       "      <td>Liam Brown</td>\n",
       "      <td>Password123!</td>\n",
       "      <td>10004</td>\n",
       "      <td>825-370-8231</td>\n",
       "      <td>Junior Data Engineer</td>\n",
       "      <td>Hartford, CT</td>\n",
       "      <td>85835.14</td>\n",
       "      <td>10000</td>\n",
       "    </tr>\n",
       "  </tbody>\n",
       "</table>\n",
       "</div>"
      ],
      "text/plain": [
       "               name      password  employee_id  phone_number  \\\n",
       "0    Alan Schnitzer  Password123!        10000  686-296-9780   \n",
       "1     William Lopez  Password123!        10001  861-357-0442   \n",
       "2      Noah Lettick  Password123!        10002  938-728-1518   \n",
       "3  Charlotte Wilson  Password123!        10003  802-636-0595   \n",
       "4        Liam Brown  Password123!        10004  825-370-8231   \n",
       "\n",
       "               job_role    work_location       salary  manager_id  \n",
       "0                   CEO     Hartford, CT  16778800.00       10000  \n",
       "1       HR Professional  Hunt Valley, MD     67344.95       10000  \n",
       "2       HR Professional     Hartford, CT     76182.80       10000  \n",
       "3  Senior Data Engineer     Hartford, CT    113577.14       10000  \n",
       "4  Junior Data Engineer     Hartford, CT     85835.14       10000  "
      ]
     },
     "execution_count": 2,
     "metadata": {},
     "output_type": "execute_result"
    }
   ],
   "source": [
    "# read the data\n",
    "\n",
    "df = pd.read_csv('data.csv')\n",
    "df.head()"
   ]
  },
  {
   "cell_type": "code",
   "execution_count": 3,
   "metadata": {},
   "outputs": [],
   "source": [
    "df_data = df[['job_role','work_location']] # values used to make prediction\n",
    "df_labels = df[['salary']] # value to predict"
   ]
  },
  {
   "cell_type": "code",
   "execution_count": 4,
   "metadata": {},
   "outputs": [
    {
     "data": {
      "text/html": [
       "<div>\n",
       "<style scoped>\n",
       "    .dataframe tbody tr th:only-of-type {\n",
       "        vertical-align: middle;\n",
       "    }\n",
       "\n",
       "    .dataframe tbody tr th {\n",
       "        vertical-align: top;\n",
       "    }\n",
       "\n",
       "    .dataframe thead th {\n",
       "        text-align: right;\n",
       "    }\n",
       "</style>\n",
       "<table border=\"1\" class=\"dataframe\">\n",
       "  <thead>\n",
       "    <tr style=\"text-align: right;\">\n",
       "      <th></th>\n",
       "      <th>job_role_CEO</th>\n",
       "      <th>job_role_Cloud Engineer</th>\n",
       "      <th>job_role_HR Professional</th>\n",
       "      <th>job_role_Junior Data Engineer</th>\n",
       "      <th>job_role_Junior Software Engineer</th>\n",
       "      <th>job_role_Senior Data Engineer</th>\n",
       "      <th>job_role_Senior Software Engineer</th>\n",
       "      <th>work_location_Hartford, CT</th>\n",
       "      <th>work_location_Hunt Valley, MD</th>\n",
       "      <th>work_location_New York, NY</th>\n",
       "      <th>work_location_Saint Paul, MN</th>\n",
       "    </tr>\n",
       "  </thead>\n",
       "  <tbody>\n",
       "    <tr>\n",
       "      <th>0</th>\n",
       "      <td>1</td>\n",
       "      <td>0</td>\n",
       "      <td>0</td>\n",
       "      <td>0</td>\n",
       "      <td>0</td>\n",
       "      <td>0</td>\n",
       "      <td>0</td>\n",
       "      <td>1</td>\n",
       "      <td>0</td>\n",
       "      <td>0</td>\n",
       "      <td>0</td>\n",
       "    </tr>\n",
       "    <tr>\n",
       "      <th>1</th>\n",
       "      <td>0</td>\n",
       "      <td>0</td>\n",
       "      <td>1</td>\n",
       "      <td>0</td>\n",
       "      <td>0</td>\n",
       "      <td>0</td>\n",
       "      <td>0</td>\n",
       "      <td>0</td>\n",
       "      <td>1</td>\n",
       "      <td>0</td>\n",
       "      <td>0</td>\n",
       "    </tr>\n",
       "    <tr>\n",
       "      <th>2</th>\n",
       "      <td>0</td>\n",
       "      <td>0</td>\n",
       "      <td>1</td>\n",
       "      <td>0</td>\n",
       "      <td>0</td>\n",
       "      <td>0</td>\n",
       "      <td>0</td>\n",
       "      <td>1</td>\n",
       "      <td>0</td>\n",
       "      <td>0</td>\n",
       "      <td>0</td>\n",
       "    </tr>\n",
       "    <tr>\n",
       "      <th>3</th>\n",
       "      <td>0</td>\n",
       "      <td>0</td>\n",
       "      <td>0</td>\n",
       "      <td>0</td>\n",
       "      <td>0</td>\n",
       "      <td>1</td>\n",
       "      <td>0</td>\n",
       "      <td>1</td>\n",
       "      <td>0</td>\n",
       "      <td>0</td>\n",
       "      <td>0</td>\n",
       "    </tr>\n",
       "    <tr>\n",
       "      <th>4</th>\n",
       "      <td>0</td>\n",
       "      <td>0</td>\n",
       "      <td>0</td>\n",
       "      <td>1</td>\n",
       "      <td>0</td>\n",
       "      <td>0</td>\n",
       "      <td>0</td>\n",
       "      <td>1</td>\n",
       "      <td>0</td>\n",
       "      <td>0</td>\n",
       "      <td>0</td>\n",
       "    </tr>\n",
       "  </tbody>\n",
       "</table>\n",
       "</div>"
      ],
      "text/plain": [
       "   job_role_CEO  job_role_Cloud Engineer  job_role_HR Professional  \\\n",
       "0             1                        0                         0   \n",
       "1             0                        0                         1   \n",
       "2             0                        0                         1   \n",
       "3             0                        0                         0   \n",
       "4             0                        0                         0   \n",
       "\n",
       "   job_role_Junior Data Engineer  job_role_Junior Software Engineer  \\\n",
       "0                              0                                  0   \n",
       "1                              0                                  0   \n",
       "2                              0                                  0   \n",
       "3                              0                                  0   \n",
       "4                              1                                  0   \n",
       "\n",
       "   job_role_Senior Data Engineer  job_role_Senior Software Engineer  \\\n",
       "0                              0                                  0   \n",
       "1                              0                                  0   \n",
       "2                              0                                  0   \n",
       "3                              1                                  0   \n",
       "4                              0                                  0   \n",
       "\n",
       "   work_location_Hartford, CT  work_location_Hunt Valley, MD  \\\n",
       "0                           1                              0   \n",
       "1                           0                              1   \n",
       "2                           1                              0   \n",
       "3                           1                              0   \n",
       "4                           1                              0   \n",
       "\n",
       "   work_location_New York, NY  work_location_Saint Paul, MN  \n",
       "0                           0                             0  \n",
       "1                           0                             0  \n",
       "2                           0                             0  \n",
       "3                           0                             0  \n",
       "4                           0                             0  "
      ]
     },
     "execution_count": 4,
     "metadata": {},
     "output_type": "execute_result"
    }
   ],
   "source": [
    "# one hot encode data to be able to run model\n",
    "\n",
    "df_dummy = pd.get_dummies(df_data)\n",
    "df_dummy.head()"
   ]
  },
  {
   "cell_type": "markdown",
   "metadata": {},
   "source": [
    "### Split data into train and test"
   ]
  },
  {
   "cell_type": "code",
   "execution_count": 5,
   "metadata": {},
   "outputs": [
    {
     "name": "stdout",
     "output_type": "stream",
     "text": [
      "(800, 11) (200, 11) (800, 1) (200, 1)\n"
     ]
    }
   ],
   "source": [
    "X_train, X_test, y_train, y_test = train_test_split(df_dummy, df_labels, test_size=0.2)\n",
    "\n",
    "print(X_train.shape, X_test.shape, y_train.shape, y_test.shape)"
   ]
  },
  {
   "cell_type": "markdown",
   "metadata": {},
   "source": [
    "### Train Linear Regression Model"
   ]
  },
  {
   "cell_type": "code",
   "execution_count": 6,
   "metadata": {},
   "outputs": [],
   "source": [
    "model = LinearRegression()"
   ]
  },
  {
   "cell_type": "code",
   "execution_count": 7,
   "metadata": {},
   "outputs": [
    {
     "data": {
      "text/plain": [
       "0.9999474922904207"
      ]
     },
     "execution_count": 7,
     "metadata": {},
     "output_type": "execute_result"
    }
   ],
   "source": [
    "model.fit(X_train, y_train)\n",
    "model.score(X_train, y_train)"
   ]
  },
  {
   "cell_type": "markdown",
   "metadata": {},
   "source": [
    "### Testing Linear Regression Model"
   ]
  },
  {
   "cell_type": "code",
   "execution_count": 8,
   "metadata": {},
   "outputs": [
    {
     "data": {
      "text/plain": [
       "0.9669632783078448"
      ]
     },
     "execution_count": 8,
     "metadata": {},
     "output_type": "execute_result"
    }
   ],
   "source": [
    "prediction = model.score(X_test, y_test)\n",
    "prediction"
   ]
  },
  {
   "cell_type": "markdown",
   "metadata": {},
   "source": [
    "### Saving the Model"
   ]
  },
  {
   "cell_type": "code",
   "execution_count": 9,
   "metadata": {},
   "outputs": [],
   "source": [
    "with open(\"trained_model.pkl\", \"wb\") as f:\n",
    "    pkl.dump(model,f)"
   ]
  },
  {
   "cell_type": "markdown",
   "metadata": {},
   "source": [
    "### Taking in External Values to Predict Salary "
   ]
  },
  {
   "cell_type": "code",
   "execution_count": 10,
   "metadata": {},
   "outputs": [],
   "source": [
    "def predict_salary(job_role, work_location):\n",
    "    df_input_data = df[['job_role','work_location']] # values used to make prediction\n",
    "\n",
    "    df_input_data.loc[len(df_input_data.index)] = [job_role, work_location] # append new data to existing dataframe\n",
    "    df_input_dummy = pd.get_dummies(df_input_data) # one hot encode all data\n",
    "\n",
    "    model_prediction = model.predict(df_input_dummy.tail(1)) # make salary prediction on new input\n",
    "    return np.array2string(model_prediction[0][0])"
   ]
  },
  {
   "cell_type": "code",
   "execution_count": 11,
   "metadata": {},
   "outputs": [
    {
     "name": "stdout",
     "output_type": "stream",
     "text": [
      "Enter in your job role (eg. Cloud Engineer)\n",
      "Enter in your job location (eg. Hartford, CT)\n",
      "85760\n"
     ]
    },
    {
     "name": "stderr",
     "output_type": "stream",
     "text": [
      "C:\\Users\\wasadmin\\AppData\\Local\\Temp\\2\\ipykernel_4028\\670746460.py:4: SettingWithCopyWarning: \n",
      "A value is trying to be set on a copy of a slice from a DataFrame\n",
      "\n",
      "See the caveats in the documentation: https://pandas.pydata.org/pandas-docs/stable/user_guide/indexing.html#returning-a-view-versus-a-copy\n",
      "  df_input_data.loc[len(df_input_data.index)] = [job_role, work_location] # append new data to existing dataframe\n"
     ]
    }
   ],
   "source": [
    "print(\"Enter in your job role (eg. Cloud Engineer)\")\n",
    "job_role = 'Cloud Engineer' #input()\n",
    "print(\"Enter in your job location (eg. Hartford, CT)\")\n",
    "work_location = 'Hartford, CT' #input()\n",
    "\n",
    "print(predict_salary(job_role, work_location)[:-1])"
   ]
  }
 ],
 "metadata": {
  "kernelspec": {
   "display_name": "base",
   "language": "python",
   "name": "python3"
  },
  "language_info": {
   "codemirror_mode": {
    "name": "ipython",
    "version": 3
   },
   "file_extension": ".py",
   "mimetype": "text/x-python",
   "name": "python",
   "nbconvert_exporter": "python",
   "pygments_lexer": "ipython3",
   "version": "3.10.9"
  },
  "orig_nbformat": 4
 },
 "nbformat": 4,
 "nbformat_minor": 2
}
