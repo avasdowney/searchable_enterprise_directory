{
 "cells": [
  {
   "cell_type": "markdown",
   "metadata": {},
   "source": [
    "# Generate Data for Searchable Enterprise Directory Application"
   ]
  },
  {
   "cell_type": "code",
   "execution_count": 133,
   "metadata": {},
   "outputs": [],
   "source": [
    "# import necessary packages\n",
    "\n",
    "import csv\n",
    "import random"
   ]
  },
  {
   "cell_type": "markdown",
   "metadata": {},
   "source": [
    "### Set up dicts and lists to create data"
   ]
  },
  {
   "cell_type": "code",
   "execution_count": 134,
   "metadata": {},
   "outputs": [],
   "source": [
    "# Lists of possible names\n",
    "\n",
    "first_names = [\"Ava\", \"Noah\", \"Jacob\", \"Liam\", \"Noah\", \"Oliver\", \"James\", \"Elijah\", \"William\", \"Henry\", \"Lucas\", \"Benjamin\", \"Theodore\",\n",
    "               \"Olivia\", \"Emma\", \"Charlotte\", \"Amelia\", \"Sophia\", \"Isabella\", \"Mia\", \"Evelyn\", \"Luna\"]\n",
    "\n",
    "last_names = [\"Downey\", \"Ramdial\", \"Lettick\", \"Smith\", \"Johnson\", \"Williams\", \"Jones\", \"Brown\", \"Garcia\", \"Miller\", \"Davis\", \n",
    "              \"Rodriguez\", \"Martinez\", \"Hernandez\", \"Wilson\", \"Lopez\", \"Anderson\", \"Thomas\", \"Moore\", \"Jackson\"]"
   ]
  },
  {
   "cell_type": "code",
   "execution_count": 135,
   "metadata": {},
   "outputs": [],
   "source": [
    "# dictionaries needed to make data have some correlation\n",
    "\n",
    "work_location_mult = {\n",
    "    \"Hartford, CT\" : 1.217,\n",
    "    \"Saint Paul, MN\" : 1.135,\n",
    "    \"Hunt Valley, MD\" : 1.117,\n",
    "    \"New York, NY\" : 1.770\n",
    "}\n",
    "\n",
    "job_role_mult = {\n",
    "    \"Junior Software Engineer\" : 1.2,\n",
    "    \"Senior Software Engineer\" : 1.46,\n",
    "    \"Junior Data Engineer\" : 1.2,\n",
    "    \"Senior Data Engineer\" : 1.55,\n",
    "    \"Cloud Engineer\" : 1.2,\n",
    "    \"HR Professional\" : 1,\n",
    "}"
   ]
  },
  {
   "cell_type": "code",
   "execution_count": 136,
   "metadata": {},
   "outputs": [],
   "source": [
    "# constants among all rows\n",
    "\n",
    "password = \"Password123!\""
   ]
  },
  {
   "cell_type": "markdown",
   "metadata": {},
   "source": [
    "### generate the data"
   ]
  },
  {
   "cell_type": "code",
   "execution_count": 137,
   "metadata": {},
   "outputs": [],
   "source": [
    "# generate phone number\n",
    "# code modified from https://stackoverflow.com/questions/26226801/making-random-phone-number-xxx-xxx-xxxx\n",
    "\n",
    "def gen_phone_num():\n",
    "    first = str(random.randint(600,999))\n",
    "    second = str(random.randint(1,888)).zfill(3)\n",
    "\n",
    "    last = (str(random.randint(1,9998)).zfill(4))\n",
    "    while last in ['1111','2222','3333','4444','5555','6666','7777','8888']:\n",
    "        last = (str(random.randint(1,9998)).zfill(4))\n",
    "        \n",
    "    return '{}-{}-{}'.format(first,second, last)"
   ]
  },
  {
   "cell_type": "code",
   "execution_count": 138,
   "metadata": {},
   "outputs": [],
   "source": [
    "# generate salary with noise multiplier\n",
    "\n",
    "def gen_salary(job_role, work_location):\n",
    "    salary = 60000 * job_role_mult.get(job_role) * work_location_mult.get(work_location)\n",
    "    salary = salary * random.uniform(0.95, 1.05 ) # noise\n",
    "    return round(salary, 2)"
   ]
  },
  {
   "cell_type": "code",
   "execution_count": 139,
   "metadata": {},
   "outputs": [],
   "source": [
    "# determine managers ---- THIS IS WEIRD, if time, fix later\n",
    "\n",
    "def determine_manager(employee_id):\n",
    "    if employee_id % 10 != 0:\n",
    "        manager_id = employee_id - (employee_id % 10)\n",
    "    elif (employee_id != 10000):\n",
    "        manager_id = employee_id - 10\n",
    "    else:\n",
    "        manager_id = employee_id\n",
    "    return manager_id"
   ]
  },
  {
   "cell_type": "code",
   "execution_count": 140,
   "metadata": {},
   "outputs": [],
   "source": [
    "NUM_ROWS = 999\n",
    "data_rows = []\n",
    "\n",
    "# make CEO employee\n",
    "name = \"Alan Schnitzer\"\n",
    "employee_id = 10000\n",
    "phone_number = gen_phone_num()\n",
    "job_role = \"CEO\"\n",
    "work_location = \"Hartford, CT\"\n",
    "salary = 16778800\n",
    "manager_id = 10000\n",
    "\n",
    "data_row = [\n",
    "    name,\n",
    "    password,\n",
    "    employee_id,\n",
    "    phone_number,\n",
    "    job_role,\n",
    "    work_location,\n",
    "    salary,\n",
    "    manager_id\n",
    "]\n",
    "\n",
    "# Add the data row to the list\n",
    "data_rows.append(data_row)\n",
    "\n",
    "\n",
    "for x in range(NUM_ROWS):\n",
    "    name = \"{} {}\".format(random.choice(first_names), random.choice(last_names))\n",
    "    employee_id = x + 10001\n",
    "    phone_number = gen_phone_num()\n",
    "    job_role = random.choice(list(job_role_mult.keys()))\n",
    "    work_location = random.choice(list(work_location_mult.keys()))\n",
    "    salary = gen_salary(job_role, work_location)\n",
    "    manager_id = determine_manager(employee_id)\n",
    "\n",
    "    data_row = [\n",
    "        name,\n",
    "        password,\n",
    "        employee_id,\n",
    "        phone_number,\n",
    "        job_role,\n",
    "        work_location,\n",
    "        salary,\n",
    "        manager_id\n",
    "    ]\n",
    "\n",
    "    # Add the data row to the list\n",
    "    data_rows.append(data_row)"
   ]
  },
  {
   "cell_type": "code",
   "execution_count": 141,
   "metadata": {},
   "outputs": [
    {
     "name": "stdout",
     "output_type": "stream",
     "text": [
      "['Alan Schnitzer', 'Password123!', 10000, '908-472-5643', 'CEO', 'Hartford, CT', 16778800, 10000]\n",
      "['Liam Downey', 'Password123!', 10001, '681-101-2979', 'Cloud Engineer', 'New York, NY', 129641.9, 10000]\n",
      "['Oliver Johnson', 'Password123!', 10010, '673-245-3095', 'Cloud Engineer', 'Hartford, CT', 88079.55, 10000]\n",
      "['Elijah Smith', 'Password123!', 10011, '882-516-3058', 'Senior Software Engineer', 'Hartford, CT', 107025.47, 10010]\n",
      "['Luna Thomas', 'Password123!', 10999, '780-031-0236', 'Senior Data Engineer', 'Hunt Valley, MD', 101172.52, 10990]\n"
     ]
    }
   ],
   "source": [
    "# test row outputs\n",
    "\n",
    "print(data_rows[0])\n",
    "print(data_rows[1])\n",
    "print(data_rows[10])\n",
    "print(data_rows[11])\n",
    "print(data_rows[999])"
   ]
  },
  {
   "cell_type": "code",
   "execution_count": 142,
   "metadata": {},
   "outputs": [
    {
     "name": "stdout",
     "output_type": "stream",
     "text": [
      "Data generation complete.\n"
     ]
    }
   ],
   "source": [
    "# Write the data to the CSV file\n",
    "with open('data.csv', \"w\", newline=\"\") as file:\n",
    "    writer = csv.writer(file)\n",
    "    writer.writerow(\n",
    "        [\"name\", \"password\", \"employee_id\", \"phone_number\", \"job_role\", \"work_location\", \"salary\",\n",
    "         \"manager_id\"]\n",
    "    )\n",
    "    writer.writerows(data_rows)\n",
    "\n",
    "print(\"Data generation complete.\")"
   ]
  }
 ],
 "metadata": {
  "kernelspec": {
   "display_name": "Python 3 (ipykernel)",
   "language": "python",
   "name": "python3"
  },
  "language_info": {
   "codemirror_mode": {
    "name": "ipython",
    "version": 3
   },
   "file_extension": ".py",
   "mimetype": "text/x-python",
   "name": "python",
   "nbconvert_exporter": "python",
   "pygments_lexer": "ipython3",
   "version": "3.10.9"
  }
 },
 "nbformat": 4,
 "nbformat_minor": 2
}
