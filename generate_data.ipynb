{
 "cells": [
  {
   "cell_type": "markdown",
   "metadata": {},
   "source": [
    "# Generate Data for Searchable Enterprise Directory Application"
   ]
  },
  {
   "cell_type": "code",
   "execution_count": 51,
   "metadata": {},
   "outputs": [],
   "source": [
    "# import necessary packages\n",
    "\n",
    "import csv\n",
    "import random\n",
    "import json"
   ]
  },
  {
   "cell_type": "markdown",
   "metadata": {},
   "source": [
    "### Set up dicts and lists to create data"
   ]
  },
  {
   "cell_type": "code",
   "execution_count": 52,
   "metadata": {},
   "outputs": [],
   "source": [
    "# Lists of possible names\n",
    "\n",
    "first_names = [\"Ava\", \"Noah\", \"Jacob\", \"Liam\", \"Noah\", \"Oliver\", \"James\", \"Elijah\", \"William\", \"Henry\", \"Lucas\", \"Benjamin\", \"Theodore\",\n",
    "               \"Olivia\", \"Emma\", \"Charlotte\", \"Amelia\", \"Sophia\", \"Isabella\", \"Mia\", \"Evelyn\", \"Luna\"]\n",
    "\n",
    "last_names = [\"Downey\", \"Ramdial\", \"Lettick\", \"Smith\", \"Johnson\", \"Williams\", \"Jones\", \"Brown\", \"Garcia\", \"Miller\", \"Davis\", \n",
    "              \"Rodriguez\", \"Martinez\", \"Hernandez\", \"Wilson\", \"Lopez\", \"Anderson\", \"Thomas\", \"Moore\", \"Jackson\"]"
   ]
  },
  {
   "cell_type": "code",
   "execution_count": 53,
   "metadata": {},
   "outputs": [],
   "source": [
    "# dictionaries needed to make data have some correlation\n",
    "\n",
    "work_location_mult = {\n",
    "    \"Hartford, CT\" : 1.217,\n",
    "    \"Saint Paul, MN\" : 1.135,\n",
    "    \"Hunt Valley, MD\" : 1.117,\n",
    "    \"New York, NY\" : 1.770\n",
    "}\n",
    "\n",
    "job_role_mult = {\n",
    "    \"Junior Software Engineer\" : 1.2,\n",
    "    \"Senior Software Engineer\" : 1.46,\n",
    "    \"Junior Data Engineer\" : 1.2,\n",
    "    \"Senior Data Engineer\" : 1.55,\n",
    "    \"Cloud Engineer\" : 1.2,\n",
    "    \"HR Professional\" : 1,\n",
    "}"
   ]
  },
  {
   "cell_type": "code",
   "execution_count": 54,
   "metadata": {},
   "outputs": [],
   "source": [
    "# constants among all rows\n",
    "\n",
    "password = \"Password123!\"\n",
    "manager_id = 1"
   ]
  },
  {
   "cell_type": "markdown",
   "metadata": {},
   "source": [
    "### generate the data"
   ]
  },
  {
   "cell_type": "code",
   "execution_count": 55,
   "metadata": {},
   "outputs": [],
   "source": [
    "# generate phone number\n",
    "\n",
    "def gen_phone_num():\n",
    "    first = str(random.randint(600,999))\n",
    "    second = str(random.randint(1,888)).zfill(3)\n",
    "\n",
    "    last = (str(random.randint(1,9998)).zfill(4))\n",
    "    while last in ['1111','2222','3333','4444','5555','6666','7777','8888']:\n",
    "        last = (str(random.randint(1,9998)).zfill(4))\n",
    "        \n",
    "    return '{}-{}-{}'.format(first,second, last)"
   ]
  },
  {
   "cell_type": "code",
   "execution_count": 56,
   "metadata": {},
   "outputs": [],
   "source": [
    "def gen_salary(job_role, work_location):\n",
    "    salary = 60000 * job_role_mult.get(job_role) * work_location_mult.get(work_location)\n",
    "    salary = salary * random.uniform(0.95, 1.05 )# noise\n",
    "    return salary"
   ]
  },
  {
   "cell_type": "code",
   "execution_count": 57,
   "metadata": {},
   "outputs": [],
   "source": [
    "NUM_ROWS = 1000\n",
    "data_rows = []\n",
    "\n",
    "for x in range(NUM_ROWS + 1):\n",
    "    name = \"{} {}\".format(random.choice(first_names), random.choice(last_names))\n",
    "    employee_id = x + 10000\n",
    "    phone_number = gen_phone_num()\n",
    "    job_role = random.choice(list(job_role_mult.keys()))\n",
    "    work_location = random.choice(list(work_location_mult.keys()))\n",
    "    salary = gen_salary(job_role, work_location)\n",
    "\n",
    "    data_row = [\n",
    "        name,\n",
    "        password,\n",
    "        employee_id,\n",
    "        phone_number,\n",
    "        job_role,\n",
    "        work_location,\n",
    "        salary,\n",
    "        manager_id\n",
    "    ]\n",
    "\n",
    "    # Add the data row to the list\n",
    "    data_rows.append(data_row)\n"
   ]
  },
  {
   "cell_type": "code",
   "execution_count": 58,
   "metadata": {},
   "outputs": [
    {
     "name": "stdout",
     "output_type": "stream",
     "text": [
      "Data generation complete.\n"
     ]
    }
   ],
   "source": [
    "# Write the data to the CSV file\n",
    "with open('data.csv', \"w\", newline=\"\") as file:\n",
    "    writer = csv.writer(file)\n",
    "    writer.writerow(\n",
    "        [\"name\", \"password\", \"employee_id\", \"phone_number\", \"job_role\", \"work_location\", \"salary\",\n",
    "         \"manager_id\"]\n",
    "    )\n",
    "    writer.writerows(data_rows)\n",
    "\n",
    "print(\"Data generation complete.\")"
   ]
  }
 ],
 "metadata": {
  "kernelspec": {
   "display_name": "base",
   "language": "python",
   "name": "python3"
  },
  "language_info": {
   "codemirror_mode": {
    "name": "ipython",
    "version": 3
   },
   "file_extension": ".py",
   "mimetype": "text/x-python",
   "name": "python",
   "nbconvert_exporter": "python",
   "pygments_lexer": "ipython3",
   "version": "3.10.9"
  },
  "orig_nbformat": 4
 },
 "nbformat": 4,
 "nbformat_minor": 2
}
